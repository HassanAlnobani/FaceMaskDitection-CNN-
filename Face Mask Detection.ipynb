{
 "cells": [
  {
   "cell_type": "code",
   "execution_count": 1,
   "id": "a873e7ea",
   "metadata": {},
   "outputs": [],
   "source": [
    "import cv2\n",
    "import matplotlib.pyplot as plt\n",
    "import numpy as np\n",
    "import pandas as pd\n",
    "import os \n",
    "import tensorflow as tf\n",
    "from imutils import paths\n",
    "from tensorflow.keras import layers\n",
    "from sklearn.model_selection import train_test_split"
   ]
  },
  {
   "cell_type": "code",
   "execution_count": 2,
   "id": "7ec38377",
   "metadata": {},
   "outputs": [],
   "source": [
    "dataset = r\"C:\\Users\\hassa\\Documents\\python\\face mask detection\\data\""
   ]
  },
  {
   "cell_type": "code",
   "execution_count": 3,
   "id": "396f6879",
   "metadata": {},
   "outputs": [],
   "source": [
    "imagePaths=list(paths.list_images(dataset))"
   ]
  },
  {
   "cell_type": "code",
   "execution_count": 4,
   "id": "f2b2b7c2",
   "metadata": {},
   "outputs": [],
   "source": [
    "batch_size = 50\n",
    "img_height = 200\n",
    "img_width = 200"
   ]
  },
  {
   "cell_type": "code",
   "execution_count": 5,
   "id": "3493d3f0",
   "metadata": {},
   "outputs": [
    {
     "name": "stdout",
     "output_type": "stream",
     "text": [
      "Found 7553 files belonging to 2 classes.\n",
      "Using 6043 files for training.\n"
     ]
    }
   ],
   "source": [
    "## loading training data\n",
    "training_ds = tf.keras.preprocessing.image_dataset_from_directory(\n",
    "    dataset,\n",
    "    validation_split=0.2,\n",
    "    subset= \"training\",\n",
    "    seed=42,\n",
    "    image_size= (img_height, img_width),\n",
    "    batch_size=batch_size\n",
    ")"
   ]
  },
  {
   "cell_type": "code",
   "execution_count": 6,
   "id": "e70a7aa5",
   "metadata": {},
   "outputs": [
    {
     "name": "stdout",
     "output_type": "stream",
     "text": [
      "Found 7553 files belonging to 2 classes.\n",
      "Using 1510 files for validation.\n"
     ]
    }
   ],
   "source": [
    "## loading testing data\n",
    "testing_ds = tf.keras.preprocessing.image_dataset_from_directory(\n",
    "    dataset,\n",
    "    validation_split=0.2,\n",
    "    subset= \"validation\",\n",
    "    seed=42,\n",
    "    image_size= (img_height, img_width),\n",
    "    batch_size=batch_size\n",
    ")"
   ]
  },
  {
   "cell_type": "code",
   "execution_count": 7,
   "id": "1988b6ee",
   "metadata": {},
   "outputs": [
    {
     "data": {
      "text/plain": [
       "['with_mask', 'without_mask']"
      ]
     },
     "execution_count": 7,
     "metadata": {},
     "output_type": "execute_result"
    }
   ],
   "source": [
    "class_names = training_ds.class_names\n",
    "class_names"
   ]
  },
  {
   "cell_type": "code",
   "execution_count": 8,
   "id": "5149c09c",
   "metadata": {},
   "outputs": [],
   "source": [
    "AUTOTUNE = tf.data.experimental.AUTOTUNE\n",
    "training_ds = training_ds.cache().prefetch(buffer_size=AUTOTUNE)\n",
    "testing_ds = testing_ds.cache().prefetch(buffer_size=AUTOTUNE)"
   ]
  },
  {
   "cell_type": "code",
   "execution_count": 9,
   "id": "98a210ae",
   "metadata": {},
   "outputs": [
    {
     "data": {
      "text/plain": [
       "<PrefetchDataset element_spec=(TensorSpec(shape=(None, 200, 200, 3), dtype=tf.float32, name=None), TensorSpec(shape=(None,), dtype=tf.int32, name=None))>"
      ]
     },
     "execution_count": 9,
     "metadata": {},
     "output_type": "execute_result"
    }
   ],
   "source": [
    "AUTOTUNE\n",
    "training_ds\n",
    "testing_ds"
   ]
  },
  {
   "cell_type": "code",
   "execution_count": 10,
   "id": "88dec710",
   "metadata": {},
   "outputs": [],
   "source": [
    "## lets define our CNN\n",
    "model = tf.keras.models.Sequential([\n",
    "  layers.experimental.preprocessing.Rescaling(1./255),\n",
    "  layers.Conv2D(32, 3, activation='relu'),\n",
    "  layers.MaxPooling2D(),\n",
    "  layers.Conv2D(64, 3, activation='relu'),\n",
    "  layers.MaxPooling2D(),\n",
    "  layers.Conv2D(64, 3, activation='relu'),\n",
    "  layers.MaxPooling2D(),\n",
    "  layers.Conv2D(128, 3, activation='relu'),\n",
    "  layers.MaxPooling2D(),\n",
    "  # layers.Flatten(),\n",
    "  layers.GlobalAveragePooling2D(),\n",
    "  layers.Dense(256, activation='relu'),\n",
    "  layers.Dense(2, activation= 'softmax')\n",
    "])"
   ]
  },
  {
   "cell_type": "code",
   "execution_count": 11,
   "id": "8957b780",
   "metadata": {},
   "outputs": [],
   "source": [
    "model.compile(optimizer='adam',loss='sparse_categorical_crossentropy', metrics=['accuracy'])"
   ]
  },
  {
   "cell_type": "code",
   "execution_count": 12,
   "id": "6c23b5e0",
   "metadata": {},
   "outputs": [
    {
     "name": "stdout",
     "output_type": "stream",
     "text": [
      "Epoch 1/10\n",
      "121/121 [==============================] - 463s 4s/step - loss: 0.5533 - accuracy: 0.7154 - val_loss: 0.4532 - val_accuracy: 0.7821\n",
      "Epoch 2/10\n",
      "121/121 [==============================] - 405s 3s/step - loss: 0.4151 - accuracy: 0.8180 - val_loss: 0.3003 - val_accuracy: 0.8788\n",
      "Epoch 3/10\n",
      "121/121 [==============================] - 378s 3s/step - loss: 0.3080 - accuracy: 0.8719 - val_loss: 0.2677 - val_accuracy: 0.8967\n",
      "Epoch 4/10\n",
      "121/121 [==============================] - 393s 3s/step - loss: 0.2782 - accuracy: 0.8908 - val_loss: 0.2266 - val_accuracy: 0.9179\n",
      "Epoch 5/10\n",
      "121/121 [==============================] - 429s 4s/step - loss: 0.2460 - accuracy: 0.9030 - val_loss: 0.1979 - val_accuracy: 0.9291\n",
      "Epoch 6/10\n",
      "121/121 [==============================] - 419s 3s/step - loss: 0.2201 - accuracy: 0.9158 - val_loss: 0.1881 - val_accuracy: 0.9305\n",
      "Epoch 7/10\n",
      "121/121 [==============================] - 391s 3s/step - loss: 0.1970 - accuracy: 0.9224 - val_loss: 0.1676 - val_accuracy: 0.9397\n",
      "Epoch 8/10\n",
      "121/121 [==============================] - 443s 4s/step - loss: 0.1778 - accuracy: 0.9322 - val_loss: 0.1715 - val_accuracy: 0.9344\n",
      "Epoch 9/10\n",
      "121/121 [==============================] - 405s 3s/step - loss: 0.1653 - accuracy: 0.9393 - val_loss: 0.1454 - val_accuracy: 0.9424\n",
      "Epoch 10/10\n",
      "121/121 [==============================] - 365s 3s/step - loss: 0.1616 - accuracy: 0.9409 - val_loss: 0.1473 - val_accuracy: 0.9464\n"
     ]
    }
   ],
   "source": [
    "## lets train our CNN\n",
    "retVal = model.fit(training_ds, validation_data= testing_ds, epochs = 10)"
   ]
  },
  {
   "cell_type": "code",
   "execution_count": 13,
   "id": "e77af9b6",
   "metadata": {},
   "outputs": [
    {
     "data": {
      "text/plain": [
       "<matplotlib.legend.Legend at 0x24838c66ef0>"
      ]
     },
     "execution_count": 13,
     "metadata": {},
     "output_type": "execute_result"
    },
    {
     "data": {
      "image/png": "[encoded data removed]",
      "text/plain": [
       "<Figure size 640x480 with 1 Axes>"
      ]
     },
     "metadata": {},
     "output_type": "display_data"
    }
   ],
   "source": [
    "plt.plot(retVal.history['loss'], label = 'training loss')\n",
    "plt.plot(retVal.history['accuracy'], label = 'training accuracy')\n",
    "plt.legend()"
   ]
  },
  {
   "cell_type": "code",
   "execution_count": 14,
   "id": "5e144ce9",
   "metadata": {},
   "outputs": [
    {
     "name": "stderr",
     "output_type": "stream",
     "text": [
      "WARNING:absl:Found untraced functions such as _jit_compiled_convolution_op, _jit_compiled_convolution_op, _jit_compiled_convolution_op, _jit_compiled_convolution_op, _update_step_xla while saving (showing 5 of 5). These functions will not be directly callable after loading.\n"
     ]
    },
    {
     "name": "stdout",
     "output_type": "stream",
     "text": [
      "INFO:tensorflow:Assets written to: maskDetector.model\\assets\n"
     ]
    },
    {
     "name": "stderr",
     "output_type": "stream",
     "text": [
      "INFO:tensorflow:Assets written to: maskDetector.model\\assets\n"
     ]
    }
   ],
   "source": [
    "model.save('maskDetector.model')"
   ]
  },
  {
   "cell_type": "code",
   "execution_count": null,
   "id": "2886eb80",
   "metadata": {},
   "outputs": [],
   "source": []
  }
 ],
 "metadata": {
  "kernelspec": {
   "display_name": "Python 3 (ipykernel)",
   "language": "python",
   "name": "python3"
  },
  "language_info": {
   "codemirror_mode": {
    "name": "ipython",
    "version": 3
   },
   "file_extension": ".py",
   "mimetype": "text/x-python",
   "name": "python",
   "nbconvert_exporter": "python",
   "pygments_lexer": "ipython3",
   "version": "3.10.4"
  }
 },
 "nbformat": 4,
 "nbformat_minor": 5
}
